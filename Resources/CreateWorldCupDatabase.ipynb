{
 "cells": [
  {
   "cell_type": "code",
   "execution_count": 10,
   "metadata": {},
   "outputs": [],
   "source": [
    "import pandas as pd\n",
    "import sqlite3\n",
    "from sqlite3 import Error\n",
    "conn = sqlite3.connect('../FifaApp/db/WorldCup.sqlite')\n",
    "c = conn.cursor()\n",
    "\n",
    "# Load Games\n",
    "games = \"FinalGamesByYear.csv\"\n",
    "games = pd.read_csv(games)\n",
    "games.to_sql('FinalGamesByYear', conn, if_exists = \"replace\")\n",
    "\n",
    "#load Players\n",
    "players = \"TopPlayersByCountry.csv\"\n",
    "players = pd.read_csv(players)\n",
    "players.to_sql('TopPlayersByCountry', conn, if_exists = \"replace\")\n",
    "\n",
    "#teams\n",
    "teams = \"TopTeamsByYear.csv\"\n",
    "teams = pd.read_csv(teams)\n",
    "teams.to_sql('TopTeamsByYear', conn, if_exists = \"replace\")\n",
    "\n",
    "#Results\n",
    "Results = \"ResultsByCountry.csv\"\n",
    "Results = pd.read_csv(Results, encoding=\"ISO-8859-1\")\n",
    "Results.to_sql('ResultsByCountry', conn, if_exists = \"replace\")\n",
    "\n",
    "#Lookup\n",
    "Lookup = \"YearCountry.csv\"\n",
    "Lookup = pd.read_csv(Lookup, encoding=\"ISO-8859-1\")\n",
    "Lookup.to_sql('YearCountry', conn, if_exists = \"replace\")\n"
   ]
  },
  {
   "cell_type": "code",
   "execution_count": 13,
   "metadata": {},
   "outputs": [
    {
     "data": {
      "text/html": [
       "<div>\n",
       "<style scoped>\n",
       "    .dataframe tbody tr th:only-of-type {\n",
       "        vertical-align: middle;\n",
       "    }\n",
       "\n",
       "    .dataframe tbody tr th {\n",
       "        vertical-align: top;\n",
       "    }\n",
       "\n",
       "    .dataframe thead th {\n",
       "        text-align: right;\n",
       "    }\n",
       "</style>\n",
       "<table border=\"1\" class=\"dataframe\">\n",
       "  <thead>\n",
       "    <tr style=\"text-align: right;\">\n",
       "      <th></th>\n",
       "      <th>index</th>\n",
       "      <th>Year</th>\n",
       "      <th>Country</th>\n",
       "    </tr>\n",
       "  </thead>\n",
       "  <tbody>\n",
       "    <tr>\n",
       "      <th>0</th>\n",
       "      <td>0</td>\n",
       "      <td>1930</td>\n",
       "      <td>Uruguay</td>\n",
       "    </tr>\n",
       "    <tr>\n",
       "      <th>1</th>\n",
       "      <td>1</td>\n",
       "      <td>1934</td>\n",
       "      <td>Italy</td>\n",
       "    </tr>\n",
       "    <tr>\n",
       "      <th>2</th>\n",
       "      <td>2</td>\n",
       "      <td>1938</td>\n",
       "      <td>Italy</td>\n",
       "    </tr>\n",
       "    <tr>\n",
       "      <th>3</th>\n",
       "      <td>3</td>\n",
       "      <td>1950</td>\n",
       "      <td>Uruguay</td>\n",
       "    </tr>\n",
       "    <tr>\n",
       "      <th>4</th>\n",
       "      <td>4</td>\n",
       "      <td>1954</td>\n",
       "      <td>West Germany</td>\n",
       "    </tr>\n",
       "  </tbody>\n",
       "</table>\n",
       "</div>"
      ],
      "text/plain": [
       "   index  Year       Country\n",
       "0      0  1930       Uruguay\n",
       "1      1  1934         Italy\n",
       "2      2  1938         Italy\n",
       "3      3  1950       Uruguay\n",
       "4      4  1954  West Germany"
      ]
     },
     "execution_count": 13,
     "metadata": {},
     "output_type": "execute_result"
    }
   ],
   "source": [
    "#test\n",
    "df = pd.read_sql('Select * from YearCountry', conn)\n",
    "df.head() \n"
   ]
  }
 ],
 "metadata": {
  "kernelspec": {
   "display_name": "Python 3",
   "language": "python",
   "name": "python3"
  },
  "language_info": {
   "codemirror_mode": {
    "name": "ipython",
    "version": 3
   },
   "file_extension": ".py",
   "mimetype": "text/x-python",
   "name": "python",
   "nbconvert_exporter": "python",
   "pygments_lexer": "ipython3",
   "version": "3.6.7"
  }
 },
 "nbformat": 4,
 "nbformat_minor": 2
}
