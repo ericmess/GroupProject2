{
 "cells": [
  {
   "cell_type": "code",
   "execution_count": 1,
   "metadata": {},
   "outputs": [],
   "source": [
    "import os\n",
    " \n",
    "import pandas as pd\n",
    "import numpy as np\n",
    "\n",
    "import sqlalchemy\n",
    "from sqlalchemy.ext.automap import automap_base\n",
    "from sqlalchemy.orm import Session\n",
    "from sqlalchemy import create_engine\n",
    "from flask import Flask, jsonify, render_template\n",
    "from flask_sqlalchemy import SQLAlchemy"
   ]
  },
  {
   "cell_type": "code",
   "execution_count": 2,
   "metadata": {},
   "outputs": [
    {
     "name": "stderr",
     "output_type": "stream",
     "text": [
      "C:\\Users\\emesseri\\Anaconda3\\envs\\PythonWebMongo\\lib\\site-packages\\flask_sqlalchemy\\__init__.py:835: FSADeprecationWarning: SQLALCHEMY_TRACK_MODIFICATIONS adds significant overhead and will be disabled by default in the future.  Set it to True or False to suppress this warning.\n",
      "  'SQLALCHEMY_TRACK_MODIFICATIONS adds significant overhead and '\n"
     ]
    },
    {
     "data": {
      "text/plain": [
       "0     1930\n",
       "1     1934\n",
       "2     1938\n",
       "3     1950\n",
       "4     1954\n",
       "5     1958\n",
       "6     1962\n",
       "7     1966\n",
       "8     1970\n",
       "9     1974\n",
       "10    1978\n",
       "11    1982\n",
       "12    1986\n",
       "13    1990\n",
       "14    1994\n",
       "15    1998\n",
       "16    2002\n",
       "17    2006\n",
       "18    2010\n",
       "19    2014\n",
       "20    2018\n",
       "21    2022\n",
       "22    2026\n",
       "Name: Year, dtype: int64"
      ]
     },
     "execution_count": 2,
     "metadata": {},
     "output_type": "execute_result"
    }
   ],
   "source": [
    "app = Flask(__name__, static_url_path='/static')\n",
    "\n",
    "\n",
    "\n",
    "#################################################\n",
    "# Database Setup\n",
    "#################################################\n",
    "\n",
    "app.config[\"SQLALCHEMY_DATABASE_URI\"] = \"sqlite:///db/WorldCup.sqlite\"\n",
    "db = SQLAlchemy(app)\n",
    "\n",
    "# reflect an existing database into a new model\n",
    "Base = automap_base()\n",
    "# reflect the tables\n",
    "Base.prepare(db.engine, reflect=True)\n",
    "\n",
    "# Tables to make:\n",
    "# FinalGamesByYear,ResultsByCountry,TopPlayersByCountry,TopTeamsByYear,YearCountry\n",
    "# Save references to each table\n",
    "\n",
    "conn = db.engine.connect()\n",
    "YearCountry = pd.read_sql(\"SELECT * from YearCountry\", conn) #import pandas\n",
    "YearCountry=YearCountry[\"Year\"]\n",
    "YearCountry"
   ]
  },
  {
   "cell_type": "code",
   "execution_count": null,
   "metadata": {},
   "outputs": [],
   "source": [
    "stmnt0 = 'Select distinct Year, Country from YearCountry'\n",
    "df = pd.read_sql(stmnt0, db.session.bind)\n",
    "i = 0\n",
    "while i < len(df):\n",
    "    year_country = {\n",
    "        'Year':list(df['Year'])[i],\n",
    "        'Country':list(df['Country'])[i]\n",
    "    }"
   ]
  },
  {
   "cell_type": "code",
   "execution_count": null,
   "metadata": {},
   "outputs": [],
   "source": []
  }
 ],
 "metadata": {
  "kernelspec": {
   "display_name": "Python 3",
   "language": "python",
   "name": "python3"
  },
  "language_info": {
   "codemirror_mode": {
    "name": "ipython",
    "version": 3
   },
   "file_extension": ".py",
   "mimetype": "text/x-python",
   "name": "python",
   "nbconvert_exporter": "python",
   "pygments_lexer": "ipython3",
   "version": "3.6.7"
  }
 },
 "nbformat": 4,
 "nbformat_minor": 2
}
