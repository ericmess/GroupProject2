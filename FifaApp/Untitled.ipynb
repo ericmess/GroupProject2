{
 "cells": [
  {
   "cell_type": "code",
   "execution_count": 16,
   "metadata": {},
   "outputs": [],
   "source": [
    "import os\n",
    " \n",
    "import pandas as pd\n",
    "import numpy as np\n",
    "\n",
    "import sqlalchemy\n",
    "from sqlalchemy.ext.automap import automap_base\n",
    "from sqlalchemy.orm import Session\n",
    "from sqlalchemy import create_engine\n",
    "from sqlalchemy import  inspect # get metadata\n",
    "from sqlalchemy.ext.declarative import declarative_base \n",
    "from sqlalchemy.ext.automap import automap_base # Python SQL toolkit and Object Relational Mapper (create classes form db tables)\n",
    "\n",
    "\n",
    "from flask import Flask, jsonify, render_template\n",
    "from flask_sqlalchemy import SQLAlchemy"
   ]
  },
  {
   "cell_type": "code",
   "execution_count": null,
   "metadata": {
    "scrolled": true
   },
   "outputs": [],
   "source": [
    "app = Flask(__name__)\n",
    "app.config[\"SQLALCHEMY_DATABASE_URI\"] = \"sqlite:///db/WorldCup.sqlite\"\n",
    "db = SQLAlchemy(app)\n",
    "\n",
    "# reflect an existing database into a new model\n",
    "Base = automap_base()\n",
    "\n",
    "# reflect the tables\n",
    "Base.prepare(db.engine, reflect=True)\n",
    "Base.classes.keys()"
   ]
  },
  {
   "cell_type": "code",
   "execution_count": null,
   "metadata": {},
   "outputs": [],
   "source": [
    "Base.classes.keys()"
   ]
  },
  {
   "cell_type": "code",
   "execution_count": null,
   "metadata": {
    "scrolled": true
   },
   "outputs": [],
   "source": [
    "inspector = inspect(db.engine) # Create the inspector and connect it to the engine\n",
    "\n",
    "# Collect the names of tables within the database\n",
    "inspector.get_table_names() # Collect the names of tables within the database\n",
    "# columns = inspector.get_columns('TableName') # Using the inspector to print the column names "
   ]
  },
  {
   "cell_type": "code",
   "execution_count": null,
   "metadata": {
    "scrolled": true
   },
   "outputs": [],
   "source": [
    "conn = db.engine.connect()\n",
    "FinalGamesByYear_df = pd.read_sql(\"SELECT * from FinalGamesByYear\", conn) #import pandas\n",
    "FinalGamesByYear_df.head()"
   ]
  },
  {
   "cell_type": "code",
   "execution_count": null,
   "metadata": {},
   "outputs": [],
   "source": [
    "conn = db.engine.connect()\n",
    "ResultsByCountry_df = pd.read_sql(\"SELECT * from ResultsByCountry\", conn) #import pandas\n",
    "ResultsByCountry_df.head()"
   ]
  },
  {
   "cell_type": "code",
   "execution_count": null,
   "metadata": {},
   "outputs": [],
   "source": [
    "conn = db.engine.connect()\n",
    "TopPlayersByCountry_df = pd.read_sql(\"SELECT * from TopPlayersByCountry\", conn) #import pandas\n",
    "TopPlayersByCountry_df.head()"
   ]
  },
  {
   "cell_type": "code",
   "execution_count": null,
   "metadata": {},
   "outputs": [],
   "source": [
    "conn = db.engine.connect()\n",
    "YearCountry_df = pd.read_sql(\"SELECT * from YearCountry\", conn) #import pandas\n",
    "YearCountry_df.head()"
   ]
  },
  {
   "cell_type": "code",
   "execution_count": null,
   "metadata": {},
   "outputs": [],
   "source": [
    "conn = db.engine.connect()\n",
    "YearCountry = pd.read_sql(\"SELECT * from YearCountry\", conn) #import pandas\n",
    "YearCountry.head()"
   ]
  },
  {
   "cell_type": "code",
   "execution_count": null,
   "metadata": {},
   "outputs": [],
   "source": [
    "YearCountry=YearCountry[[\"Year\",\"Country\"]]\n",
    "YearCountry"
   ]
  },
  {
   "cell_type": "code",
   "execution_count": null,
   "metadata": {
    "scrolled": true
   },
   "outputs": [],
   "source": [
    "Base.classes.FinalGamesByYear"
   ]
  },
  {
   "cell_type": "code",
   "execution_count": null,
   "metadata": {},
   "outputs": [],
   "source": [
    "conn = db.engine.connect()\n",
    "TopTeamsByYear_df = pd.read_sql(\"SELECT * from TopTeamsByYear\", conn) #import pandas\n",
    "TopTeamsByYear_df.head()"
   ]
  },
  {
   "cell_type": "code",
   "execution_count": null,
   "metadata": {
    "scrolled": true
   },
   "outputs": [],
   "source": [
    "conn = db.engine.connect()\n",
    "FinalGamesByYear_df = pd.read_sql(\"SELECT * from FinalGamesByYear\", conn) #import pandas\n",
    "FinalGamesByYear_df.head()"
   ]
  },
  {
   "cell_type": "code",
   "execution_count": null,
   "metadata": {},
   "outputs": [],
   "source": [
    "conn = db.engine.connect()\n",
    "YearCountry_df = pd.read_sql(\"SELECT * from YearCountry\", conn) #import pandas\n",
    "YearCountry_df.head()"
   ]
  },
  {
   "cell_type": "code",
   "execution_count": null,
   "metadata": {},
   "outputs": [],
   "source": []
  }
 ],
 "metadata": {
  "kernelspec": {
   "display_name": "Python 3",
   "language": "python",
   "name": "python3"
  },
  "language_info": {
   "codemirror_mode": {
    "name": "ipython",
    "version": 3
   },
   "file_extension": ".py",
   "mimetype": "text/x-python",
   "name": "python",
   "nbconvert_exporter": "python",
   "pygments_lexer": "ipython3",
   "version": "3.6.7"
  }
 },
 "nbformat": 4,
 "nbformat_minor": 2
}
